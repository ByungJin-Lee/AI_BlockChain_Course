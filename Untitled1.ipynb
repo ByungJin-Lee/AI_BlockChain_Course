{
 "cells": [
  {
   "cell_type": "code",
   "execution_count": 1,
   "id": "f57163bc",
   "metadata": {},
   "outputs": [],
   "source": [
    "#import train.csv and pandas\n",
    "\n",
    "import pandas as pd\n",
    "train_df = pd.read_csv('train.csv')"
   ]
  },
  {
   "cell_type": "code",
   "execution_count": 6,
   "id": "dfe1e4ec",
   "metadata": {},
   "outputs": [
    {
     "data": {
      "text/plain": [
       "73.77049180327869"
      ]
     },
     "execution_count": 6,
     "metadata": {},
     "output_type": "execute_result"
    }
   ],
   "source": [
    "#Percentage of children with parents who survived\n",
    "child_sur_df = train_df[ (train_df['Survived'] == 1) & (train_df['Age'] < 18) ]\n",
    "pc_df = child_sur_df[ child_sur_df['Parch'] > 0 ]\n",
    "100.0 * len(pc_df) / len(child_sur_df)"
   ]
  },
  {
   "cell_type": "code",
   "execution_count": 7,
   "id": "316a5841",
   "metadata": {},
   "outputs": [
    {
     "data": {
      "text/plain": [
       "26.229508196721312"
      ]
     },
     "execution_count": 7,
     "metadata": {},
     "output_type": "execute_result"
    }
   ],
   "source": [
    "#Percentage of children without parents who survived \n",
    "pcw_df = child_sur_df[child_sur_df['Parch'] == 0]\n",
    "100.0 * len(pcw_df) / len(child_sur_df)"
   ]
  },
  {
   "cell_type": "code",
   "execution_count": 8,
   "id": "80ced5c4",
   "metadata": {},
   "outputs": [
    {
     "data": {
      "text/plain": [
       "5.470444444444444"
      ]
     },
     "execution_count": 8,
     "metadata": {},
     "output_type": "execute_result"
    }
   ],
   "source": [
    "#Average age of surviving children with parents\n",
    "pc_df['Age'].mean()"
   ]
  },
  {
   "cell_type": "code",
   "execution_count": 9,
   "id": "84e3f230",
   "metadata": {},
   "outputs": [
    {
     "data": {
      "text/plain": [
       "14.6875"
      ]
     },
     "execution_count": 9,
     "metadata": {},
     "output_type": "execute_result"
    }
   ],
   "source": [
    "#Average age of surviving children without parents\n",
    "pcw_df['Age'].mean()"
   ]
  }
 ],
 "metadata": {
  "kernelspec": {
   "display_name": "Python 3 (ipykernel)",
   "language": "python",
   "name": "python3"
  },
  "language_info": {
   "codemirror_mode": {
    "name": "ipython",
    "version": 3
   },
   "file_extension": ".py",
   "mimetype": "text/x-python",
   "name": "python",
   "nbconvert_exporter": "python",
   "pygments_lexer": "ipython3",
   "version": "3.9.7"
  }
 },
 "nbformat": 4,
 "nbformat_minor": 5
}
