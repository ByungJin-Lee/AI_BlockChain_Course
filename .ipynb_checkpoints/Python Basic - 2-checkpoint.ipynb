{
 "cells": [
  {
   "cell_type": "code",
   "execution_count": 5,
   "id": "c207c02a",
   "metadata": {},
   "outputs": [
    {
     "name": "stdout",
     "output_type": "stream",
     "text": [
      "Input range you want to sum from x to y : 1 10\n"
     ]
    },
    {
     "data": {
      "text/plain": [
       "55"
      ]
     },
     "execution_count": 5,
     "metadata": {},
     "output_type": "execute_result"
    }
   ],
   "source": [
    "#Sum number from x to y(include y)\n",
    "def _sum(x, y):\n",
    "    acc = 0\n",
    "    for number in range(x, y + 1):\n",
    "        acc += number\n",
    "    return acc\n",
    "\n",
    "x, y = map(int,input(\"Input range you want to sum from x to y : \").split())\n",
    "\n",
    "_sum(x, y)"
   ]
  },
  {
   "cell_type": "code",
   "execution_count": null,
   "id": "2fe58296",
   "metadata": {},
   "outputs": [],
   "source": [
    "#Max, Min, Addition, Multiplication\n",
    "\n",
    "def get_max(lhs, rhs):\n",
    "    return lhs if lhs > rhs else rhs"
   ]
  }
 ],
 "metadata": {
  "kernelspec": {
   "display_name": "Python 3 (ipykernel)",
   "language": "python",
   "name": "python3"
  },
  "language_info": {
   "codemirror_mode": {
    "name": "ipython",
    "version": 3
   },
   "file_extension": ".py",
   "mimetype": "text/x-python",
   "name": "python",
   "nbconvert_exporter": "python",
   "pygments_lexer": "ipython3",
   "version": "3.9.7"
  }
 },
 "nbformat": 4,
 "nbformat_minor": 5
}
