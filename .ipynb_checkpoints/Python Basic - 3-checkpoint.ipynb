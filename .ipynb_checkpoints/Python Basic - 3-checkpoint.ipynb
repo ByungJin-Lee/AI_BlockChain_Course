{
 "cells": [
  {
   "cell_type": "code",
   "execution_count": 1,
   "id": "f48fc18b",
   "metadata": {},
   "outputs": [
    {
     "name": "stdout",
     "output_type": "stream",
     "text": [
      "구입 금액100000\n",
      "You have to give me 95000.0\n"
     ]
    }
   ],
   "source": [
    "#수하물 비용 계산\n",
    "#구입 비용이 10만원 이상인 경우, 5% 할인해라\n",
    "real_price = int(input(\"구입 금액 : \"))\n",
    "discount = 0 if real_price < 100000 else real_price / 20\n",
    "print(\"You have to give me\", real_price - discount)"
   ]
  },
  {
   "cell_type": "code",
   "execution_count": null,
   "id": "ae9763ed",
   "metadata": {},
   "outputs": [],
   "source": [
    "#height age\n",
    "age = int(input(\"input age: \"))\n",
    "height = float(input(\"input height: \"))\n",
    "\n",
    "if age >= 10 and height >= 165:\n",
    "    print(\"탈 수 있음\")\n",
    "else:\n",
    "    print(\"탈 수 없음\")"
   ]
  }
 ],
 "metadata": {
  "kernelspec": {
   "display_name": "Python 3 (ipykernel)",
   "language": "python",
   "name": "python3"
  },
  "language_info": {
   "codemirror_mode": {
    "name": "ipython",
    "version": 3
   },
   "file_extension": ".py",
   "mimetype": "text/x-python",
   "name": "python",
   "nbconvert_exporter": "python",
   "pygments_lexer": "ipython3",
   "version": "3.9.7"
  }
 },
 "nbformat": 4,
 "nbformat_minor": 5
}
