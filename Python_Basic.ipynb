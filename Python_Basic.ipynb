{
 "cells": [
  {
   "cell_type": "code",
   "execution_count": 1,
   "id": "33f87f6e",
   "metadata": {},
   "outputs": [
    {
     "name": "stdout",
     "output_type": "stream",
     "text": [
      "참석자의 수를 입력하시오:25\n",
      "치킨의 수: 25\n",
      "맥주의 수: 50\n",
      "케익의 수: 100\n"
     ]
    }
   ],
   "source": [
    "#참석자당 치킨 1마리, 맥주 2캔, 케익 4개를 주문하시오\n",
    "\n",
    "num_of_attend = int(input(\"참석자의 수를 입력하시오:\"))\n",
    "\n",
    "print(\"치킨의 수:\", num_of_attend)\n",
    "\n",
    "print(\"맥주의 수:\", num_of_attend * 2)\n",
    "\n",
    "print(\"케익의 수:\", num_of_attend * 4)"
   ]
  },
  {
   "cell_type": "code",
   "execution_count": 4,
   "id": "4679b0a6",
   "metadata": {},
   "outputs": [
    {
     "name": "stdout",
     "output_type": "stream",
     "text": [
      "첫 번째 정수: 100\n",
      "두 번째 정수: 200\n",
      "합은 300\n"
     ]
    }
   ],
   "source": [
    "#사용자로부터 2개의 정수를 입력받아 합을 계산하시오\n",
    "x = int(input(\"첫 번째 정수: \"))\n",
    "\n",
    "y = int(input(\"두 번째 정수: \"))\n",
    "\n",
    "sum = x + y\n",
    "print(\"합은\", sum)"
   ]
  },
  {
   "cell_type": "code",
   "execution_count": 5,
   "id": "50ec79fd",
   "metadata": {},
   "outputs": [
    {
     "data": {
      "text/plain": [
       "1628.894626777442"
      ]
     },
     "execution_count": 5,
     "metadata": {},
     "output_type": "execute_result"
    }
   ],
   "source": [
    "#돈 계산\n",
    "a = 1000\n",
    "r = 0.05\n",
    "n = 10\n",
    "a*(1+r)**n"
   ]
  },
  {
   "cell_type": "code",
   "execution_count": 7,
   "id": "183e029b",
   "metadata": {},
   "outputs": [
    {
     "data": {
      "text/plain": [
       "(41, 80)"
      ]
     },
     "execution_count": 7,
     "metadata": {},
     "output_type": "execute_result"
    }
   ],
   "source": [
    "#돈과 물건 가격이 주어질 때, 살 수 있는 갯수와 남은 돈을 출력하시오\n",
    "my_money = 5000\n",
    "price = 120\n",
    "\n",
    "num_thing = my_money // price\n",
    "change = my_money % price\n",
    "\n",
    "num_thing, change"
   ]
  },
  {
   "cell_type": "code",
   "execution_count": 9,
   "id": "2dd06db1",
   "metadata": {},
   "outputs": [
    {
     "data": {
      "text/plain": [
       "(16, 40)"
      ]
     },
     "execution_count": 9,
     "metadata": {},
     "output_type": "execute_result"
    }
   ],
   "source": [
    "#초 가 주어졌을 때, 분:초의 형태로 나타내시오\n",
    "seconds = 1000\n",
    "minutes = seconds // 60\n",
    "reminder = seconds % 60\n",
    "(minutes, reminder)"
   ]
  },
  {
   "cell_type": "code",
   "execution_count": 10,
   "id": "aea7c36d",
   "metadata": {},
   "outputs": [
    {
     "data": {
      "text/plain": [
       "111442737812.28842"
      ]
     },
     "execution_count": 10,
     "metadata": {},
     "output_type": "execute_result"
    }
   ],
   "source": [
    "#돈 계산 2\n",
    "a = 24\n",
    "r = 0.06\n",
    "n = 382\n",
    "a*(1+r)**n"
   ]
  },
  {
   "cell_type": "code",
   "execution_count": 12,
   "id": "b9ff00ca",
   "metadata": {},
   "outputs": [
    {
     "data": {
      "text/plain": [
       "(5, 1)"
      ]
     },
     "execution_count": 12,
     "metadata": {},
     "output_type": "execute_result"
    }
   ],
   "source": [
    "#최대 최소\n",
    "mx = max(1,2,3,4,5)\n",
    "\n",
    "mn = min(1,2,3,4,5)\n",
    "(mx, mn)"
   ]
  },
  {
   "cell_type": "code",
   "execution_count": 18,
   "id": "96af4f60",
   "metadata": {},
   "outputs": [
    {
     "name": "stdout",
     "output_type": "stream",
     "text": [
      "1.5666666666666669\n"
     ]
    }
   ],
   "source": [
    "#자전거 등반 계획\n",
    "#평지 : 20, 경사(위): 10, 경사(아래): 30\n",
    "#땅이 주어짐 list tuple (거리, 경사)\n",
    "\n",
    "require_time = 0\n",
    "\n",
    "way = [(10, 0), (5, -1), (5, 1), (8, 0)]\n",
    "\n",
    "for (space, angle) in way:\n",
    "    speed = 20 + 10 * angle\n",
    "    require_time += (space / speed)\n",
    "print(require_time)"
   ]
  },
  {
   "cell_type": "code",
   "execution_count": null,
   "id": "4491c06f",
   "metadata": {},
   "outputs": [],
   "source": []
  }
 ],
 "metadata": {
  "kernelspec": {
   "display_name": "Python 3 (ipykernel)",
   "language": "python",
   "name": "python3"
  },
  "language_info": {
   "codemirror_mode": {
    "name": "ipython",
    "version": 3
   },
   "file_extension": ".py",
   "mimetype": "text/x-python",
   "name": "python",
   "nbconvert_exporter": "python",
   "pygments_lexer": "ipython3",
   "version": "3.9.7"
  }
 },
 "nbformat": 4,
 "nbformat_minor": 5
}
