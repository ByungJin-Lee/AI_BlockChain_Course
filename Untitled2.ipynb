{
 "cells": [
  {
   "cell_type": "code",
   "execution_count": 1,
   "id": "82ea7fff",
   "metadata": {},
   "outputs": [],
   "source": [
    "#import numpy module\n",
    "import numpy as np"
   ]
  },
  {
   "cell_type": "code",
   "execution_count": 2,
   "id": "2f4e2d76",
   "metadata": {},
   "outputs": [
    {
     "name": "stdout",
     "output_type": "stream",
     "text": [
      "array <class 'numpy.ndarray'>\n"
     ]
    }
   ],
   "source": [
    "array3 = np.array([1,2,3])\n",
    "print('array', type(array3))"
   ]
  },
  {
   "cell_type": "code",
   "execution_count": null,
   "id": "7eb9e1cd",
   "metadata": {},
   "outputs": [],
   "source": []
  }
 ],
 "metadata": {
  "kernelspec": {
   "display_name": "Python 3 (ipykernel)",
   "language": "python",
   "name": "python3"
  },
  "language_info": {
   "codemirror_mode": {
    "name": "ipython",
    "version": 3
   },
   "file_extension": ".py",
   "mimetype": "text/x-python",
   "name": "python",
   "nbconvert_exporter": "python",
   "pygments_lexer": "ipython3",
   "version": "3.9.7"
  }
 },
 "nbformat": 4,
 "nbformat_minor": 5
}
