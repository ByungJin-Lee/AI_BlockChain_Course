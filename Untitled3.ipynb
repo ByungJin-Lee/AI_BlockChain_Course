{
 "cells": [
  {
   "cell_type": "markdown",
   "id": "a6339e6c",
   "metadata": {},
   "source": [
    "# Pokemon "
   ]
  },
  {
   "cell_type": "code",
   "execution_count": 1,
   "id": "e168f554",
   "metadata": {},
   "outputs": [],
   "source": [
    "#import modules\n",
    "from sklearn.datasets import load_iris\n",
    "from sklearn.tree import DecisionTreeClassifier\n",
    "from sklearn.model_selection import train_test_split\n",
    "import pandas as pd"
   ]
  },
  {
   "cell_type": "code",
   "execution_count": 27,
   "id": "3886193d",
   "metadata": {},
   "outputs": [],
   "source": [
    "#import data\n",
    "pokemon_df = pd.read_csv(\"poke_utf8.csv\")\n",
    "\n",
    "pokemon_df = pokemon_df.drop(\"Name\", axis=1)\n",
    "\n",
    "pokemon_data = pokemon_df[['HP', 'Attack', 'Defense', 'Speed', 'Generation']].values\n",
    "\n",
    "pokemon_labels = pokemon_df['Legendary'].values"
   ]
  },
  {
   "cell_type": "code",
   "execution_count": 69,
   "id": "2427c43e",
   "metadata": {},
   "outputs": [],
   "source": [
    "X_train, X_test, y_train, y_test = train_test_split(pokemon_data, pokemon_labels, \n",
    "                                                    test_size=0.3, random_state=11)"
   ]
  },
  {
   "cell_type": "code",
   "execution_count": 70,
   "id": "2c076035",
   "metadata": {},
   "outputs": [],
   "source": [
    "dt  = DecisionTreeClassifier(random_state=11)"
   ]
  },
  {
   "cell_type": "code",
   "execution_count": 71,
   "id": "62a12a05",
   "metadata": {},
   "outputs": [
    {
     "data": {
      "text/plain": [
       "DecisionTreeClassifier(random_state=11)"
      ]
     },
     "execution_count": 71,
     "metadata": {},
     "output_type": "execute_result"
    }
   ],
   "source": [
    "dt.fit(X_train, y_train)"
   ]
  },
  {
   "cell_type": "code",
   "execution_count": 72,
   "id": "9ea385c9",
   "metadata": {},
   "outputs": [
    {
     "name": "stdout",
     "output_type": "stream",
     "text": [
      "[False False False False False False  True False False False False False\n",
      "  True False False False False False  True False False False False False\n",
      " False False False False  True False False False False  True False False\n",
      " False False False False False False False False False False False False\n",
      " False False False False False False False False False False False  True\n",
      " False False False False False False False  True False False False False\n",
      " False False False False False False False False False False False  True\n",
      " False False False False False False False False False False False False\n",
      " False False False False False False False False  True False False False\n",
      " False False False False  True False  True False False False False  True\n",
      " False False False False False False False False False False False False\n",
      " False False False False False False False False False False False False\n",
      " False False False False False False False False False False False False\n",
      " False False False False False False False False False False  True  True\n",
      " False False False False False False False False False False False False\n",
      " False False False  True False False False False False False False False\n",
      " False False False False False False False False False False False False\n",
      " False False False False False False False False False False False False\n",
      " False False False  True False False False False False False False False\n",
      " False False False False False False False False False False  True False]\n"
     ]
    }
   ],
   "source": [
    "pred = dt.predict(X_test)\n",
    "print(pred)"
   ]
  },
  {
   "cell_type": "code",
   "execution_count": 73,
   "id": "28e5caaf",
   "metadata": {},
   "outputs": [
    {
     "name": "stdout",
     "output_type": "stream",
     "text": [
      "예측 정확도: 0.9292\n"
     ]
    }
   ],
   "source": [
    "from sklearn.metrics import accuracy_score\n",
    "print('예측 정확도: {0:.4f}'.format(accuracy_score(y_test,pred)))"
   ]
  },
  {
   "cell_type": "code",
   "execution_count": null,
   "id": "6359f8db",
   "metadata": {},
   "outputs": [],
   "source": []
  }
 ],
 "metadata": {
  "kernelspec": {
   "display_name": "Python 3 (ipykernel)",
   "language": "python",
   "name": "python3"
  },
  "language_info": {
   "codemirror_mode": {
    "name": "ipython",
    "version": 3
   },
   "file_extension": ".py",
   "mimetype": "text/x-python",
   "name": "python",
   "nbconvert_exporter": "python",
   "pygments_lexer": "ipython3",
   "version": "3.9.7"
  }
 },
 "nbformat": 4,
 "nbformat_minor": 5
}
