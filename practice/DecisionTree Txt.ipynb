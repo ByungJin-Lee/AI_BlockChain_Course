{
 "cells": [
  {
   "cell_type": "code",
   "execution_count": null,
   "id": "d0e1bc5d",
   "metadata": {},
   "outputs": [],
   "source": [
    "#machine learning\n",
    "import sklearn\n",
    "\n",
    "#Information Gain = 정보 이득\n",
    "#Entropy = 엔트로피 : 혼잡도, 무질서도, 불확실성\n",
    "\n",
    "# 0.5 / 0.5 와 같은 결과를 도무지 예측할 수 없는 경우 - 무질서도 1\n",
    "\n",
    "#Entropy를 이용해서 Information Gain을 계산 -> feature rank을 만든 뒤, 가장 높은 feature를 root로 이용.\n",
    "\n",
    "#"
   ]
  }
 ],
 "metadata": {
  "kernelspec": {
   "display_name": "Python 3 (ipykernel)",
   "language": "python",
   "name": "python3"
  },
  "language_info": {
   "codemirror_mode": {
    "name": "ipython",
    "version": 3
   },
   "file_extension": ".py",
   "mimetype": "text/x-python",
   "name": "python",
   "nbconvert_exporter": "python",
   "pygments_lexer": "ipython3",
   "version": "3.9.7"
  }
 },
 "nbformat": 4,
 "nbformat_minor": 5
}
