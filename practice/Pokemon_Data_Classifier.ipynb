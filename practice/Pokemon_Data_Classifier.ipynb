{
 "cells": [
  {
   "cell_type": "markdown",
   "id": "a6339e6c",
   "metadata": {},
   "source": [
    "# Pokemon "
   ]
  },
  {
   "cell_type": "code",
   "execution_count": 24,
   "id": "e168f554",
   "metadata": {},
   "outputs": [],
   "source": [
    "#import modules\n",
    "from sklearn.datasets import load_iris\n",
    "from sklearn.tree import DecisionTreeClassifier\n",
    "from sklearn.model_selection import train_test_split\n",
    "from sklearn.linear_model import LogisticRegression\n",
    "from sklearn.ensemble import RandomForestClassifier\n",
    "\n",
    "import pandas as pd"
   ]
  },
  {
   "cell_type": "code",
   "execution_count": 62,
   "id": "3886193d",
   "metadata": {},
   "outputs": [],
   "source": [
    "#import data\n",
    "pokemon_df = pd.read_csv(\"poke_utf8.csv\")\n",
    "\n",
    "pokemon_features = pokemon_df.drop([\"Name\", '#', 'Legendary'], axis=1)\n",
    "\n",
    "pokemon_data = pokemon_features.values\n",
    "\n",
    "pokemon_labels = pokemon_df['Legendary'].values\n",
    "\n",
    "#pokemon_df.info()\n",
    "\n",
    "#pokemon_df.describe()"
   ]
  },
  {
   "cell_type": "code",
   "execution_count": 63,
   "id": "cedb1fcc",
   "metadata": {},
   "outputs": [],
   "source": [
    "from sklearn.preprocessing import StandardScaler\n",
    "from sklearn.preprocessing import MinMaxScaler\n",
    "\n",
    "# StandardScaler객체 생성\n",
    "# scaler = StandardScaler()\n",
    "scaler = MinMaxScaler()\n",
    "# StandardScaler 로 데이터 셋 변환. fit( ) 과 transform( ) 호출.  \n",
    "scaler.fit(pokemon_features)\n",
    "pokemon_scaled = scaler.transform(pokemon_features)\n",
    "pokemon_scaled_df = pd.DataFrame(data=pokemon_scaled, columns=['HP', 'Attack', 'Defense', 'Speed', 'Generation'])\n",
    "\n",
    "# pokemon_data = pokemon_scaled_df.values"
   ]
  },
  {
   "cell_type": "code",
   "execution_count": 64,
   "id": "53dab5fa",
   "metadata": {},
   "outputs": [
    {
     "data": {
      "text/plain": [
       "False    734\n",
       "True      65\n",
       "Name: Legendary, dtype: int64"
      ]
     },
     "execution_count": 64,
     "metadata": {},
     "output_type": "execute_result"
    }
   ],
   "source": [
    "pokemon_df['Legendary'].value_counts()"
   ]
  },
  {
   "cell_type": "code",
   "execution_count": 71,
   "id": "2427c43e",
   "metadata": {},
   "outputs": [],
   "source": [
    "X_train, X_test, y_train, y_test = train_test_split(pokemon_data, pokemon_labels, \n",
    "                                                    test_size=0.2, random_state=11)"
   ]
  },
  {
   "cell_type": "code",
   "execution_count": 72,
   "id": "2c076035",
   "metadata": {},
   "outputs": [],
   "source": [
    "dt = DecisionTreeClassifier(random_state=11)\n",
    "rt = RandomForestClassifier()\n",
    "rogi = LogisticRegression()"
   ]
  },
  {
   "cell_type": "code",
   "execution_count": 73,
   "id": "62a12a05",
   "metadata": {},
   "outputs": [
    {
     "data": {
      "text/plain": [
       "LogisticRegression()"
      ]
     },
     "execution_count": 73,
     "metadata": {},
     "output_type": "execute_result"
    }
   ],
   "source": [
    "dt.fit(X_train, y_train)\n",
    "rt.fit(X_train, y_train)\n",
    "rogi.fit(X_train, y_train)"
   ]
  },
  {
   "cell_type": "code",
   "execution_count": 74,
   "id": "9ea385c9",
   "metadata": {},
   "outputs": [],
   "source": [
    "pred = dt.predict(X_test)\n",
    "pred_rt = rt.predict(X_test)\n",
    "pred_ro = rogi.predict(X_test)"
   ]
  },
  {
   "cell_type": "code",
   "execution_count": 75,
   "id": "28e5caaf",
   "metadata": {},
   "outputs": [
    {
     "name": "stdout",
     "output_type": "stream",
     "text": [
      "디시전 트리 예측 정확도: 0.9250\n",
      "로지스틱 예측 정확도: 0.9437\n",
      "랜덤 예측 정확도: 0.9563\n"
     ]
    }
   ],
   "source": [
    "from sklearn.metrics import accuracy_score\n",
    "print('디시전 트리 예측 정확도: {0:.4f}'.format(accuracy_score(y_test,pred)))\n",
    "print('로지스틱 예측 정확도: {0:.4f}'.format(accuracy_score(y_test,pred_ro)))\n",
    "print('랜덤 예측 정확도: {0:.4f}'.format(accuracy_score(y_test,pred_rt)))"
   ]
  },
  {
   "cell_type": "code",
   "execution_count": 77,
   "id": "6359f8db",
   "metadata": {},
   "outputs": [
    {
     "name": "stdout",
     "output_type": "stream",
     "text": [
      "              precision    recall  f1-score   support\n",
      "\n",
      "       False       0.95      0.97      0.96       146\n",
      "        True       0.60      0.43      0.50        14\n",
      "\n",
      "    accuracy                           0.93       160\n",
      "   macro avg       0.77      0.70      0.73       160\n",
      "weighted avg       0.92      0.93      0.92       160\n",
      "\n",
      "              precision    recall  f1-score   support\n",
      "\n",
      "       False       0.96      0.98      0.97       146\n",
      "        True       0.73      0.57      0.64        14\n",
      "\n",
      "    accuracy                           0.94       160\n",
      "   macro avg       0.84      0.78      0.80       160\n",
      "weighted avg       0.94      0.94      0.94       160\n",
      "\n",
      "              precision    recall  f1-score   support\n",
      "\n",
      "       False       0.97      0.99      0.98       146\n",
      "        True       0.82      0.64      0.72        14\n",
      "\n",
      "    accuracy                           0.96       160\n",
      "   macro avg       0.89      0.81      0.85       160\n",
      "weighted avg       0.95      0.96      0.95       160\n",
      "\n"
     ]
    }
   ],
   "source": [
    "from sklearn.metrics import classification_report\n",
    "print(classification_report(y_test,pred))\n",
    "print(classification_report(y_test,pred_ro))\n",
    "print(classification_report(y_test,pred_rt))"
   ]
  },
  {
   "cell_type": "code",
   "execution_count": null,
   "id": "de7ec79b",
   "metadata": {},
   "outputs": [],
   "source": []
  },
  {
   "cell_type": "code",
   "execution_count": null,
   "id": "1f3db2ce",
   "metadata": {},
   "outputs": [],
   "source": []
  }
 ],
 "metadata": {
  "kernelspec": {
   "display_name": "Python 3 (ipykernel)",
   "language": "python",
   "name": "python3"
  },
  "language_info": {
   "codemirror_mode": {
    "name": "ipython",
    "version": 3
   },
   "file_extension": ".py",
   "mimetype": "text/x-python",
   "name": "python",
   "nbconvert_exporter": "python",
   "pygments_lexer": "ipython3",
   "version": "3.9.7"
  }
 },
 "nbformat": 4,
 "nbformat_minor": 5
}
