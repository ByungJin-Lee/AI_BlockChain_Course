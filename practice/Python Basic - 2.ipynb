{
 "cells": [
  {
   "cell_type": "code",
   "execution_count": 5,
   "id": "4297c797",
   "metadata": {},
   "outputs": [
    {
     "name": "stdout",
     "output_type": "stream",
     "text": [
      "Input range you want to sum from x to y : 1 10\n"
     ]
    },
    {
     "data": {
      "text/plain": [
       "55"
      ]
     },
     "execution_count": 5,
     "metadata": {},
     "output_type": "execute_result"
    }
   ],
   "source": [
    "#Sum number from x to y(include y)\n",
    "def _sum(x, y):\n",
    "    acc = 0\n",
    "    for number in range(x, y + 1):\n",
    "        acc += number\n",
    "    return acc\n",
    "\n",
    "x, y = map(int,input(\"Input range you want to sum from x to y : \").split())\n",
    "\n",
    "_sum(x, y)"
   ]
  },
  {
   "cell_type": "code",
   "execution_count": 6,
   "id": "a586fb7b",
   "metadata": {},
   "outputs": [
    {
     "name": "stdout",
     "output_type": "stream",
     "text": [
      "Input range you want to sum from x to y : 10 20\n"
     ]
    },
    {
     "data": {
      "text/plain": [
       "(20, 10, 30, 200)"
      ]
     },
     "execution_count": 6,
     "metadata": {},
     "output_type": "execute_result"
    }
   ],
   "source": [
    "#Max, Min, Addition, Multiplication\n",
    "\n",
    "def get_max(lhs, rhs):\n",
    "    return lhs if lhs > rhs else rhs\n",
    "\n",
    "def get_min(lhs, rhs):\n",
    "    return lhs if lhs < rhs else rhs\n",
    "\n",
    "def get_addition(lhs, rhs):\n",
    "    return lhs + rhs\n",
    "\n",
    "def get_multiplication(lhs, rhs):\n",
    "    return lhs * rhs\n",
    "\n",
    "x, y = map(int,input(\"Input range you want to sum from x to y : \").split())\n",
    "\n",
    "get_max(x,y), get_min(x, y), get_addition(x,y), get_multiplication(x, y)"
   ]
  },
  {
   "cell_type": "code",
   "execution_count": 11,
   "id": "819678c1",
   "metadata": {},
   "outputs": [
    {
     "name": "stdout",
     "output_type": "stream",
     "text": [
      "hello\n",
      "this function is no param\n"
     ]
    },
    {
     "data": {
      "text/plain": [
       "True"
      ]
     },
     "execution_count": 11,
     "metadata": {},
     "output_type": "execute_result"
    }
   ],
   "source": [
    "#func no param\n",
    "def happy():\n",
    "    print(\"hello\")\n",
    "    print(\"this function is no param\")\n",
    "\n",
    "#Check is prime\n",
    "def is_prime(x):\n",
    "    for divisor in range(2, x):\n",
    "        if(x % divisor == 0): return False\n",
    "    return True\n",
    "\n",
    "happy()\n",
    "is_prime(11)"
   ]
  },
  {
   "cell_type": "code",
   "execution_count": 13,
   "id": "4c0f0da4",
   "metadata": {},
   "outputs": [
    {
     "data": {
      "text/plain": [
       "'1ajnsy'"
      ]
     },
     "execution_count": 13,
     "metadata": {},
     "output_type": "execute_result"
    }
   ],
   "source": [
    "#Password Generator\n",
    "\n",
    "import random\n",
    "\n",
    "def generator_password():\n",
    "    keys = list(\"abcdefghijknmlopqrstuvwxyz0123456789\")\n",
    "    return \"\".join([random.choice(keys) for _ in range(6)])\n",
    "\n",
    "generator_password()"
   ]
  },
  {
   "cell_type": "code",
   "execution_count": 15,
   "id": "f45b40fb",
   "metadata": {},
   "outputs": [
    {
     "name": "stdout",
     "output_type": "stream",
     "text": [
      "i love math\n",
      "i love computer\n"
     ]
    },
    {
     "data": {
      "text/plain": [
       "(1, 2, 3, 4, 5)"
      ]
     },
     "execution_count": 15,
     "metadata": {},
     "output_type": "execute_result"
    }
   ],
   "source": [
    "#global variables\n",
    "\n",
    "def local_func():\n",
    "    s = \"i love math\"\n",
    "    print(s)\n",
    "\n",
    "s = \"i love computer\"\n",
    "local_func()\n",
    "print(s)\n",
    "\n",
    "#return value more than 2\n",
    "\n",
    "def return_a_lot():\n",
    "    return 1,2,3,4,5\n",
    "\n",
    "return_a_lot()"
   ]
  },
  {
   "cell_type": "code",
   "execution_count": null,
   "id": "48f9486d",
   "metadata": {},
   "outputs": [],
   "source": []
  }
 ],
 "metadata": {
  "kernelspec": {
   "display_name": "Python 3 (ipykernel)",
   "language": "python",
   "name": "python3"
  },
  "language_info": {
   "codemirror_mode": {
    "name": "ipython",
    "version": 3
   },
   "file_extension": ".py",
   "mimetype": "text/x-python",
   "name": "python",
   "nbconvert_exporter": "python",
   "pygments_lexer": "ipython3",
   "version": "3.9.7"
  }
 },
 "nbformat": 4,
 "nbformat_minor": 5
}
